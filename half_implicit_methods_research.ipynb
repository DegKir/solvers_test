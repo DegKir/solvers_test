{
  "nbformat": 4,
  "nbformat_minor": 0,
  "metadata": {
    "colab": {
      "provenance": []
    },
    "kernelspec": {
      "name": "python3",
      "display_name": "Python 3"
    },
    "language_info": {
      "name": "python"
    }
  },
  "cells": [
    {
      "cell_type": "code",
      "execution_count": 1,
      "metadata": {
        "id": "lXw5_Vzy_a-F"
      },
      "outputs": [],
      "source": [
        "import numpy as np"
      ]
    },
    {
      "cell_type": "code",
      "source": [
        "import matplotlib.pyplot as plt"
      ],
      "metadata": {
        "id": "EwZgl2mb_wWr"
      },
      "execution_count": 2,
      "outputs": []
    },
    {
      "cell_type": "markdown",
      "source": [
        "Функции операторов  \n",
        "- принимают параметры сетки и размерность задачи\n",
        "- возвращают двумерный numpy массив"
      ],
      "metadata": {
        "id": "VimK9zb2C3Ob"
      }
    },
    {
      "cell_type": "code",
      "source": [
        "def second_derivative_operator(size, dx):\n",
        "  matrix = np.eye(size)\n",
        "  i,j=np.indices(matrix.shape)\n",
        "  matrix[i==j]=-2\n",
        "  matrix[i==j-1]=1\n",
        "  matrix[i==j+1]=1\n",
        "  matrix=matrix/dx/dx\n",
        "  return matrix"
      ],
      "metadata": {
        "id": "94QLznsFB3fg"
      },
      "execution_count": 3,
      "outputs": []
    },
    {
      "cell_type": "code",
      "source": [
        "def full_operator(size, dt, dx, g, H):\n",
        "  return np.eye(size)-g*H*dt*second_derivative_operator(size,dx)"
      ],
      "metadata": {
        "id": "mXYLcoqrCFWD"
      },
      "execution_count": 4,
      "outputs": []
    },
    {
      "cell_type": "markdown",
      "source": [
        "Функции методов,\n",
        "- принимают начальную точку, матрицу, правую часть и число итераций\n",
        "- возвращают numpy массив err_log, в котором на i-м месте лежат два-нормы ошибки на i-м шаге алгоритма"
      ],
      "metadata": {
        "id": "eqE1OFlbC8PP"
      }
    },
    {
      "cell_type": "code",
      "source": [
        "def sg_method(start_point, matrix, right_part, iter_number, er=1E-16):\n",
        "  size = len(start_point)\n",
        "  assert np.shape(matrix)[0] == size\n",
        "  assert np.shape(matrix)[0] == np.shape(matrix)[1]\n",
        "  assert len(right_part) == size\n",
        "\n",
        "  real_answer = np.linalg.inv(matrix)@right_part\n",
        "\n",
        "  err_log = np.zeros(iter_number)\n",
        "  A=matrix\n",
        "  b=right_part\n",
        "  x=start_point\n",
        "  r=b-A@x\n",
        "  p=r\n",
        "\n",
        "  for i in range(iter_number):\n",
        "    Ap=A@p\n",
        "    alpha=(r@r)/((Ap)@p)\n",
        "    xnew=x+alpha*p\n",
        "    rnew=r-alpha*Ap\n",
        "    beta=(rnew@rnew)/(r@r)\n",
        "    p=rnew+beta*p\n",
        "    r=rnew\n",
        "\n",
        " #   if(r@r<er):\n",
        " #     break\n",
        "    err_log[i]=np.linalg.norm(xnew-x,2)\n",
        "    x=xnew\n",
        "\n",
        "  return err_log"
      ],
      "metadata": {
        "id": "yxyy4DZE_1ra"
      },
      "execution_count": 35,
      "outputs": []
    },
    {
      "cell_type": "code",
      "source": [
        "from math import sqrt\n",
        "#q=(\\sqrt(mu)-1)/(\\sqrt(mu)+1) - скорость сходимости метода\n",
        "def sg_theoretical_method(start_point, matrix, right_part, iter_number, mu):\n",
        "  real_answer = np.linalg.inv(matrix)@right_part\n",
        "  assert np.shape(matrix)[0] == size\n",
        "  assert np.shape(matrix)[0] == np.shape(matrix)[1]\n",
        "  assert len(right_part) == size\n",
        "  q = (sqrt(mu)-1)/(sqrt(mu)+1)\n",
        "  err_log = np.zeros(iter_number)\n",
        "\n",
        "  #Сделаем одну настоящую итерацию чтобы узнать ||x_1-x_0||\n",
        "  A=matrix\n",
        "  b=right_part\n",
        "  x=start_point\n",
        "  r=b-A@x\n",
        "  p=r\n",
        "\n",
        "\n",
        "  Ap=A@p\n",
        "  alpha=(r@r)/((Ap)@p)\n",
        "  xnew=x+alpha*p\n",
        "  rnew=r-alpha*Ap\n",
        "\n",
        "  err_log[0] = np.linalg.norm(x-start_point,2)\n",
        "\n",
        "  for i in range(1,iter_number):\n",
        "    err_log[i]=q*err_log[i-1]\n",
        "\n",
        "  return err_log\n"
      ],
      "metadata": {
        "id": "xfaMI9omtlBR"
      },
      "execution_count": 6,
      "outputs": []
    },
    {
      "cell_type": "code",
      "source": [
        "def jacobi_method(start_point, matrix, right_part, iter_number):\n",
        "  size = len(start_point)\n",
        "  assert np.shape(matrix)[0] == size\n",
        "  assert np.shape(matrix)[0] == np.shape(matrix)[1]\n",
        "  assert len(right_part) == size\n",
        "\n",
        "  real_answer = np.linalg.inv(matrix)@right_part\n",
        "\n",
        "  err_log = np.zeros(iter_number)\n",
        "\n",
        "  D    = matrix*np.eye(size)\n",
        "  LpU  = matrix-D\n",
        "\n",
        "  Dinv=D\n",
        "  i,j=np.indices(Dinv.shape)\n",
        "  Dinv[i==j]=1/Dinv[i==j]\n",
        "\n",
        "  x=start_point\n",
        "\n",
        "  for i in range(iter_number):\n",
        "    xnew=(right_part-(LpU)@x)@Dinv\n",
        "    err_log[i]=np.linalg.norm(xnew-x,2)\n",
        "    x=xnew\n",
        "\n",
        "  return err_log"
      ],
      "metadata": {
        "id": "qR-Y8b-NCAfc"
      },
      "execution_count": 7,
      "outputs": []
    },
    {
      "cell_type": "code",
      "source": [
        "#delta - параметр для рассчета скорости сходимости, delta = g*H*dt/dx/dx\n",
        "def jacobi_theor_method(start_point, matrix, right_part, iter_number, delta):\n",
        "  real_answer = np.linalg.inv(matrix)@right_part\n",
        "  assert np.shape(matrix)[0] == size\n",
        "  assert np.shape(matrix)[0] == np.shape(matrix)[1]\n",
        "  assert len(right_part) == size\n",
        "  q = delta/(1-2*delta) #скорость сходимости\n",
        "  err_log = np.zeros(iter_number)\n",
        "  print(\"q={}\".format(q))\n",
        "\n",
        "  #Сделаем одну настоящую итерацию чтобы узнать ||x_1-x_0||\n",
        "  D    = matrix*np.eye(size)\n",
        "  LpU  = matrix-D\n",
        "\n",
        "  Dinv=D\n",
        "  i,j=np.indices(Dinv.shape)\n",
        "  Dinv[i==j]=1/Dinv[i==j]\n",
        "\n",
        "  x=start_point\n",
        "  xnew=(right_part-(LpU)@x)@Dinv\n",
        "  err_log[0]=np.linalg.norm(xnew-x,2)\n",
        "\n",
        "  for i in range(1,iter_number):\n",
        "    err_log[i]=q*err_log[i-1]\n",
        "\n",
        "  return err_log"
      ],
      "metadata": {
        "id": "K-FJb8L_-UL1"
      },
      "execution_count": 36,
      "outputs": []
    },
    {
      "cell_type": "markdown",
      "source": [
        "Функция отрисовки логов\n",
        "- принимает в себя массив логов одинакового размера, параметры сетки, флаг для записи в директорию, флаг для логарифмирования, начальную и конечную точки сетки\n",
        "- рисует пнг файл со сходимостями в директории"
      ],
      "metadata": {
        "id": "FHEk4jeOKh7P"
      }
    },
    {
      "cell_type": "code",
      "source": [
        "def logs_draw(logs, labels, dt, dx, method_step, write_flag, log_flag, start, end):\n",
        "  for i in range(len(logs)):\n",
        "    log=logs[i]\n",
        " #   mean_speed = np.mean(log[:-1]/log[1:])\n",
        "    plt.plot(range(len(log[start:end])), log[start:end], label=labels[i])\n",
        "\n",
        "  plt.title(\"dt = \" + str(dt) + \" dx = \" + str(dx))\n",
        "  plt.xlabel(\"iteration number\")\n",
        "  if(log_flag == 0):\n",
        "    plt.ylabel(r\"$||x_{k+1}-x_{k}||^2$\")\n",
        "  if(log_flag == 1):\n",
        "    plt.ylabel(r\"$\\log||x_{k+1}-x_{k}||^2$\")\n",
        "    plt.yscale('log')\n",
        "\n",
        "\n",
        "  #getting time\n",
        "  from datetime import datetime\n",
        "  now = datetime.now()\n",
        "  current_time = now.strftime(\"%H:%M:%S\")\n",
        "\n",
        "  plt.legend()\n",
        "  if (write_flag == 1):\n",
        "    filename = \"comparison test \" + str(current_time)+\" dt = \" + str(dt) + \" dx = \" + str(dx) + \"step = \" + str(method_step)+\".png\"\n",
        "    plt.savefig(filename)"
      ],
      "metadata": {
        "id": "8eAzoUngK1DG"
      },
      "execution_count": 37,
      "outputs": []
    },
    {
      "cell_type": "markdown",
      "source": [
        "Функция основного теста :\n",
        "- Вход это размер матрицы,шаг по времени, шаг по пространству, шаг по времени, шаг итерационного процесса, количество итераций, начальную точку, флаги для отрисовки, диапазоны отрисовки\n",
        "- На выходе рисует (в директорию если поднят соответствующий флаг) картинки сходимости"
      ],
      "metadata": {
        "id": "W93dJwhtH9tT"
      }
    },
    {
      "cell_type": "code",
      "source": [
        "def methods_test(method_step, start_point, right_part, size=100, dt=100, dx=10000, iter_number = 10000, write_flag = 0, log_flag = 0, start=0, end = 1000, g=10, H=1000 ):\n",
        "  matrix = full_operator(size,dt,dx,g,H)\n",
        "#  mu = (1+4*g*H*dt/dx/dx)/(1-4*g*H*dt/dx/dx) # Число обусловленности\n",
        "  sg_log = sg_method(start_point, matrix, right_part, iter_number)\n",
        "#  sg_theor_log = sg_theoretical_method(start_point, matrix, right_part, iter_number, mu)\n",
        "  jacobi_log = jacobi_method(start_point, matrix,right_part, iter_number)\n",
        "  jacobi_theor_log = jacobi_theor_method(start_point, matrix, right_part, iter_number, delta = g*H*dt/dx/dx)\n",
        "  labels=[\"conjudate\",\"jacobi\",\"jacobi_theor\"]\n",
        "  logs = [sg_log, jacobi_log, jacobi_theor_log]\n",
        "  logs_draw(logs, labels, dt, dx, method_step, write_flag, log_flag, start, end)"
      ],
      "metadata": {
        "id": "BLKtfOfdIEij"
      },
      "execution_count": 38,
      "outputs": []
    },
    {
      "cell_type": "code",
      "source": [
        "size = 3000"
      ],
      "metadata": {
        "id": "ExMd1caHqm8l"
      },
      "execution_count": 39,
      "outputs": []
    },
    {
      "cell_type": "code",
      "source": [
        "methods_test(method_step = 1, start_point = np.zeros(size), right_part = np.random.uniform(0.1, 1000, size), iter_number=40,write_flag = 0, log_flag = 1, end = 40, size = size)"
      ],
      "metadata": {
        "colab": {
          "base_uri": "https://localhost:8080/",
          "height": 489
        },
        "id": "66CZZZTMimke",
        "outputId": "c4ef6e05-f35b-4e90-aaf0-a77c5034d093"
      },
      "execution_count": 40,
      "outputs": [
        {
          "output_type": "stream",
          "name": "stdout",
          "text": [
            "q=0.010204081632653062\n"
          ]
        },
        {
          "output_type": "display_data",
          "data": {
            "text/plain": [
              "<Figure size 640x480 with 1 Axes>"
            ],
            "image/png": "[encoded data removed]"
          },
          "metadata": {}
        }
      ]
    },
    {
      "cell_type": "code",
      "source": [
        "matrix = full_operator(3,0.1,0.1,10,1000)"
      ],
      "metadata": {
        "id": "97eVkI4PtfA8"
      },
      "execution_count": 13,
      "outputs": []
    }
  ]
}