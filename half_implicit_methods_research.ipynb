{
  "nbformat": 4,
  "nbformat_minor": 0,
  "metadata": {
    "colab": {
      "provenance": []
    },
    "kernelspec": {
      "name": "python3",
      "display_name": "Python 3"
    },
    "language_info": {
      "name": "python"
    }
  },
  "cells": [
    {
      "cell_type": "code",
      "execution_count": 17,
      "metadata": {
        "id": "lXw5_Vzy_a-F"
      },
      "outputs": [],
      "source": [
        "import numpy as np"
      ]
    },
    {
      "cell_type": "code",
      "source": [
        "import matplotlib.pyplot as plt"
      ],
      "metadata": {
        "id": "EwZgl2mb_wWr"
      },
      "execution_count": 18,
      "outputs": []
    },
    {
      "cell_type": "markdown",
      "source": [
        "Констнты для оператора"
      ],
      "metadata": {
        "id": "50Wm22VHIdGg"
      }
    },
    {
      "cell_type": "markdown",
      "source": [
        "Функции операторов - возвращают двумерный numpy массив"
      ],
      "metadata": {
        "id": "VimK9zb2C3Ob"
      }
    },
    {
      "cell_type": "code",
      "source": [
        "def second_derivative_operator(size, dx):\n",
        "  matrix = np.eye(size)\n",
        "  i,j=np.indices(matrix.shape)\n",
        "  matrix[i==j]=-2\n",
        "  matrix[i==j-1]=1\n",
        "  matrix[i==j+1]=1\n",
        "  matrix=matrix/dx/dx\n",
        "  return matrix"
      ],
      "metadata": {
        "id": "94QLznsFB3fg"
      },
      "execution_count": 20,
      "outputs": []
    },
    {
      "cell_type": "code",
      "source": [
        "def full_operator(size, dt, dx, g = 10, H = 1000):\n",
        "  return np.eye(size)-g*H*dt*second_derivative_operator(size,dx)"
      ],
      "metadata": {
        "id": "mXYLcoqrCFWD"
      },
      "execution_count": 21,
      "outputs": []
    },
    {
      "cell_type": "markdown",
      "source": [
        "Функции методов, возвращают numpy массив err_log, в котором на i-м месте лежат два-нормы ошибки на i-м шаге алгоритма"
      ],
      "metadata": {
        "id": "eqE1OFlbC8PP"
      }
    },
    {
      "cell_type": "code",
      "source": [
        "def sg_method(start_point, matrix, right_part, iter_number, er=0.000001):\n",
        "  size = len(start_point)\n",
        "  assert np.shape(matrix)[0] == size\n",
        "  assert np.shape(matrix)[0] == np.shape(matrix)[1]\n",
        "  assert len(right_part) == size\n",
        "\n",
        "  real_answer = np.linalg.inv(matrix)@right_part\n",
        "\n",
        "  err_log = np.zeros(iter_number)\n",
        "  A=matrix\n",
        "  b=right_part\n",
        "  x=start_point\n",
        "  r=b-A@x\n",
        "  p=r\n",
        "\n",
        "  for i in range(iter_number):\n",
        "\n",
        "    err_log[i]=np.linalg.norm(x-real_answer,2)\n",
        "\n",
        "    Ap=A@p\n",
        "    alpha=(r@r)/((Ap)@p)\n",
        "    x=x+alpha*p\n",
        "    rnew=r-alpha*Ap\n",
        "    beta=(rnew@rnew)/(r@r)\n",
        "    p=rnew+beta*p\n",
        "    r=rnew\n",
        "    if(r@r<er):\n",
        "      break\n",
        "\n",
        "  return err_log"
      ],
      "metadata": {
        "id": "yxyy4DZE_1ra"
      },
      "execution_count": 130,
      "outputs": []
    },
    {
      "cell_type": "code",
      "source": [
        "def jacobi_method(start_point, matrix, right_part, iter_number):\n",
        "  size = len(start_point)\n",
        "  assert np.shape(matrix)[0] == size\n",
        "  assert np.shape(matrix)[0] == np.shape(matrix)[1]\n",
        "  assert len(right_part) == size\n",
        "\n",
        "  real_answer = np.linalg.inv(matrix)@right_part\n",
        "\n",
        "  err_log = np.zeros(iter_number)\n",
        "\n",
        "  D    = matrix*np.eye(size)\n",
        "  LpU  = matrix-D\n",
        "\n",
        "  Dinv=D\n",
        "  i,j=np.indices(Dinv.shape)\n",
        "  Dinv[i==j]=1/Dinv[i==j]\n",
        "\n",
        "  x=start_point\n",
        "\n",
        "  for i in range(iter_number):\n",
        "    err_log[i]=np.linalg.norm(x-real_answer,2)\n",
        "    x=(right_part-(LpU)@x)@Dinv\n",
        "\n",
        "  return err_log"
      ],
      "metadata": {
        "id": "qR-Y8b-NCAfc"
      },
      "execution_count": 131,
      "outputs": []
    },
    {
      "cell_type": "markdown",
      "source": [
        "Функция отрисовки логов\n",
        "- принимает в себя массив логов одинакового размера\n",
        "- рисует пнг файл со сходимостями в директории"
      ],
      "metadata": {
        "id": "FHEk4jeOKh7P"
      }
    },
    {
      "cell_type": "code",
      "source": [
        "def logs_draw(logs, labels, dt, dx, method_step, write_flag, log_flag, start, end):\n",
        "  for i in range(len(logs)):\n",
        "    log=logs[i]\n",
        " #   mean_speed = np.mean(log[:-1]/log[1:])\n",
        "    plt.plot(range(len(log[start:end])), log[start:end], label=labels[i])\n",
        "\n",
        "  plt.title(\"dt = \" + str(dt) + \" dx = \" + str(dx))\n",
        "  plt.xlabel(\"iteration number\")\n",
        "  if(log_flag == 0):\n",
        "    plt.ylabel(r\"$||x_{calc}-x_{real}||^2$\")\n",
        "  if(log_flag == 1):\n",
        "    plt.ylabel(r\"$\\log||x_{calc}-x_{real}||^2$\")\n",
        "    plt.yscale('log')\n",
        "\n",
        "\n",
        "  #getting time\n",
        "  from datetime import datetime\n",
        "  now = datetime.now()\n",
        "  current_time = now.strftime(\"%H:%M:%S\")\n",
        "\n",
        "  plt.legend()\n",
        "  if (write_flag == 1):\n",
        "    filename = \"comparison test \" + str(current_time)+\" dt = \" + str(dt) + \" dx = \" + str(dx) + \"step = \" + str(method_step)+\".png\"\n",
        "    plt.savefig(filename)"
      ],
      "metadata": {
        "id": "8eAzoUngK1DG"
      },
      "execution_count": 136,
      "outputs": []
    },
    {
      "cell_type": "markdown",
      "source": [
        "Функция основного теста :\n",
        "- Вход это размер матрицы,шаг по времени, шаг по пространству, шаг по времени, шаг итерационного процесса, количество итераций, начальную точку\n",
        "- На выходе рисует в директорию картинки сходимости и пишет на них среднюю скорость сходимости"
      ],
      "metadata": {
        "id": "W93dJwhtH9tT"
      }
    },
    {
      "cell_type": "code",
      "source": [
        "def methods_test(method_step, start_point, right_part, size=100, dt=0.1, dx=0.1, iter_number = 10000, write_flag = 0, log_flag = 0, start=0, end = 1000):\n",
        "  matrix = full_operator(size,dt,dx)\n",
        "\n",
        "  sg_log = sg_method(start_point, matrix, right_part, iter_number)\n",
        "  jacobi_log = jacobi_method(start_point, matrix,right_part, iter_number)\n",
        "\n",
        "  labels=[\"Conjugate gradient method\",\"Jacobi method\"]\n",
        "  logs = [sg_log, jacobi_log]\n",
        "  logs_draw(logs, labels, dt, dx, method_step, write_flag, log_flag, start, end)"
      ],
      "metadata": {
        "id": "BLKtfOfdIEij"
      },
      "execution_count": 144,
      "outputs": []
    },
    {
      "cell_type": "code",
      "source": [
        "size = 100"
      ],
      "metadata": {
        "id": "ExMd1caHqm8l"
      },
      "execution_count": 152,
      "outputs": []
    },
    {
      "cell_type": "code",
      "source": [
        "methods_test(method_step = 1, start_point = np.zeros(size), right_part = np.random.uniform(0.1, 1000, size), iter_number=1000,write_flag = 0, log_flag = 1, end = 400, size = size)"
      ],
      "metadata": {
        "colab": {
          "base_uri": "https://localhost:8080/",
          "height": 472
        },
        "id": "66CZZZTMimke",
        "outputId": "0b263aa4-84fd-4888-f378-f083a4f186ef"
      },
      "execution_count": 155,
      "outputs": [
        {
          "output_type": "display_data",
          "data": {
            "text/plain": [
              "<Figure size 640x480 with 1 Axes>"
            ],
            "image/png": "[encoded data removed]"
          },
          "metadata": {}
        }
      ]
    },
    {
      "cell_type": "markdown",
      "source": [
        "# Новый раздел"
      ],
      "metadata": {
        "id": "6bYIB0-UskXm"
      }
    }
  ]
}